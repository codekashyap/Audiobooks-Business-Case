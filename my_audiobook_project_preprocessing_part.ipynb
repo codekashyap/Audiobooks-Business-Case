{
 "cells": [
  {
   "cell_type": "markdown",
   "id": "e868aa1f",
   "metadata": {},
   "source": [
    "## Machine learning model for audiobook app dataset \n"
   ]
  },
  {
   "cell_type": "code",
   "execution_count": 3,
   "id": "93ec152e",
   "metadata": {},
   "outputs": [],
   "source": [
    "import numpy as np\n",
    "from sklearn import preprocessing\n"
   ]
  },
  {
   "cell_type": "code",
   "execution_count": 2,
   "id": "234b2b9f",
   "metadata": {},
   "outputs": [],
   "source": [
    "raw_data=np.loadtxt('Audiobooks_data.csv' , delimiter = ',')\n",
    "\n",
    "# to include all row and remove first and last column from data\n",
    "unscaled_input_all=raw_data[ : , 1:-1]\n",
    "#last row is target\n",
    "target_all=raw_data[:,-1] "
   ]
  },
  {
   "cell_type": "code",
   "execution_count": 16,
   "id": "c250dcaf",
   "metadata": {},
   "outputs": [],
   "source": [
    "# count target=1 \n",
    "count_one_targets = int(np.sum(target_all))\n",
    "counter_zero_targets =0\n",
    "to_be_remove = []\n",
    "\n",
    "for i in range(target_all.shape[0]):\n",
    "    if target_all[i] == 0:\n",
    "        counter_zero_targets += 1\n",
    "        if counter_zero_targets > count_one_targets:\n",
    "            to_be_remove.append(i)\n",
    "            \n",
    "balanced_unscaled_input_all = np.delete(unscaled_input_all, to_be_remove, axis=0)\n",
    "#axis 0 for rows and 1 for columns\n",
    "balanced_target_all = np.delete(target_all,to_be_remove,axis = 0)\n"
   ]
  },
  {
   "cell_type": "code",
   "execution_count": 22,
   "id": "251d3511",
   "metadata": {},
   "outputs": [],
   "source": [
    "#standarise the inputs\n",
    "scaled_bal_input = preprocessing.scale(balanced_unscaled_input_all)"
   ]
  },
  {
   "cell_type": "code",
   "execution_count": 23,
   "id": "b9e01044",
   "metadata": {},
   "outputs": [],
   "source": [
    "# We want to shuffle inputs and targets, but they are in different arrays and we need a way to shuffle both arrays in the same order.\n",
    "# For example, if first observation of inputs falls into 10th index of shuffled inputs, then first element of targets should also fall into the same index, i.e., 10th index of shuffled targets.\n",
    "# Therefore, we shuffle indices and then use the shuffled indices to shuffle the inputs and targets.\n",
    "shuffled_indices = np.arange(scaled_bal_input.shape[0])\n",
    "np.random.shuffle(shuffled_indices)\n",
    "shuffled_inputs = scaled_bal_input[shuffled_indices]\n",
    "shuffled_targets = balanced_target_all[shuffled_indices]\n"
   ]
  },
  {
   "cell_type": "code",
   "execution_count": 24,
   "id": "286ba47c",
   "metadata": {},
   "outputs": [],
   "source": [
    "samples_count = shuffled_inputs.shape[0]\n",
    "# Count the samples in each subset, assuming we want 80-10-10 distribution of training, validation, and test.\n",
    "# Naturally, the numbers are integers.\n",
    "train_samples_count = int(0.8 * samples_count)\n",
    "validation_samples_count = int(0.1 * samples_count)\n",
    "test_samples_count = samples_count - train_samples_count - validation_samples_count\n",
    "\n",
    "train_inputs = shuffled_inputs[:train_samples_count]\n",
    "train_targets = shuffled_targets[:train_samples_count]\n",
    "\n",
    "validation_inputs = shuffled_inputs[train_samples_count:train_samples_count+validation_samples_count]\n",
    "validation_targets = shuffled_targets[train_samples_count:train_samples_count+validation_samples_count]\n",
    "\n",
    "test_inputs = shuffled_inputs[train_samples_count+validation_samples_count:]\n",
    "test_targets = shuffled_targets[train_samples_count+validation_samples_count:]\n",
    "\n"
   ]
  },
  {
   "cell_type": "code",
   "execution_count": 25,
   "id": "09d2ef10",
   "metadata": {},
   "outputs": [],
   "source": [
    "# Save the three datasets in *.npz.\n",
    "# In the next lesson, you will see that it is extremely valuable to name them in such a coherent way!\n",
    "\n",
    "np.savez('Audiobooks_data_train', inputs=train_inputs, targets=train_targets)\n",
    "np.savez('Audiobooks_data_validation', inputs=validation_inputs, targets=validation_targets)\n",
    "np.savez('Audiobooks_data_test', inputs=test_inputs, targets=test_targets)"
   ]
  },
  {
   "cell_type": "code",
   "execution_count": null,
   "id": "259c79eb",
   "metadata": {},
   "outputs": [],
   "source": []
  }
 ],
 "metadata": {
  "kernelspec": {
   "display_name": "Python 3 (ipykernel)",
   "language": "python",
   "name": "python3"
  },
  "language_info": {
   "codemirror_mode": {
    "name": "ipython",
    "version": 3
   },
   "file_extension": ".py",
   "mimetype": "text/x-python",
   "name": "python",
   "nbconvert_exporter": "python",
   "pygments_lexer": "ipython3",
   "version": "3.9.13"
  }
 },
 "nbformat": 4,
 "nbformat_minor": 5
}
