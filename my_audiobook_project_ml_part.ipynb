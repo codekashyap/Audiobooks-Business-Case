{
 "cells": [
  {
   "cell_type": "markdown",
   "id": "1e71b05d",
   "metadata": {},
   "source": [
    "## The Machine Learning Algorithm for Audiobook Business Case."
   ]
  },
  {
   "cell_type": "code",
   "execution_count": 1,
   "id": "7ddf0c35",
   "metadata": {},
   "outputs": [],
   "source": [
    "import numpy as np\n",
    "import pandas as pd\n",
    "import tensorflow as tf\n",
    "from sklearn import preprocessing"
   ]
  },
  {
   "cell_type": "code",
   "execution_count": 2,
   "id": "2acbd18b",
   "metadata": {},
   "outputs": [],
   "source": [
    "npz = np.load('Audiobooks_data_train.npz')\n",
    "train_inputs = npz[\"inputs\"].astype(np.float64)\n",
    "train_targets = npz[\"targets\"].astype(np.int64)"
   ]
  },
  {
   "cell_type": "code",
   "execution_count": 3,
   "id": "f0d0e64d",
   "metadata": {},
   "outputs": [],
   "source": [
    "npz = np.load('Audiobooks_data_validation.npz')\n",
    "validation_inputs = npz[\"inputs\"].astype(np.float64)\n",
    "validation_targets = npz[\"targets\"].astype(np.int64)"
   ]
  },
  {
   "cell_type": "code",
   "execution_count": 4,
   "id": "a4725b35",
   "metadata": {},
   "outputs": [],
   "source": [
    "npz = np.load('Audiobooks_data_test.npz')\n",
    "test_inputs = npz[\"inputs\"].astype(np.float64)\n",
    "test_targets = npz[\"targets\"].astype(np.int64)"
   ]
  },
  {
   "cell_type": "code",
   "execution_count": 5,
   "id": "84bf081c",
   "metadata": {},
   "outputs": [],
   "source": [
    "input_size = 10\n",
    "output_size = 2\n",
    "hidden_layer_size = 50\n",
    "\n",
    "model = tf.keras.Sequential([\n",
    "                            tf.keras.layers.Dense(hidden_layer_size, activation='relu'),\n",
    "                            tf.keras.layers.Dense(hidden_layer_size, activation='relu'),\n",
    "                            tf.keras.layers.Dense(output_size, activation='softmax')   \n",
    "                            ])\n",
    "\n",
    "\n",
    "# sparse_categorical_crossentropy applies one-hot encoding to the targets\n",
    "model.compile(optimizer='adam', loss='sparse_categorical_crossentropy', metrics=['accuracy'])\n"
   ]
  },
  {
   "cell_type": "code",
   "execution_count": 6,
   "id": "6c838b8b",
   "metadata": {},
   "outputs": [
    {
     "name": "stdout",
     "output_type": "stream",
     "text": [
      "Epoch 1/100\n",
      "36/36 - 1s - loss: 0.4968 - accuracy: 0.8340 - val_loss: 0.3905 - val_accuracy: 0.8725 - 758ms/epoch - 21ms/step\n",
      "Epoch 2/100\n",
      "36/36 - 0s - loss: 0.3511 - accuracy: 0.8740 - val_loss: 0.3356 - val_accuracy: 0.8859 - 80ms/epoch - 2ms/step\n",
      "Epoch 3/100\n",
      "36/36 - 0s - loss: 0.3107 - accuracy: 0.8824 - val_loss: 0.3166 - val_accuracy: 0.8814 - 75ms/epoch - 2ms/step\n",
      "Epoch 4/100\n",
      "36/36 - 0s - loss: 0.2901 - accuracy: 0.8899 - val_loss: 0.2985 - val_accuracy: 0.8859 - 74ms/epoch - 2ms/step\n",
      "Epoch 5/100\n",
      "36/36 - 0s - loss: 0.2779 - accuracy: 0.8952 - val_loss: 0.2857 - val_accuracy: 0.8949 - 70ms/epoch - 2ms/step\n",
      "Epoch 6/100\n",
      "36/36 - 0s - loss: 0.2688 - accuracy: 0.8980 - val_loss: 0.2825 - val_accuracy: 0.8993 - 76ms/epoch - 2ms/step\n",
      "Epoch 7/100\n",
      "36/36 - 0s - loss: 0.2635 - accuracy: 0.8986 - val_loss: 0.2751 - val_accuracy: 0.8971 - 74ms/epoch - 2ms/step\n",
      "Epoch 8/100\n",
      "36/36 - 0s - loss: 0.2552 - accuracy: 0.9033 - val_loss: 0.2746 - val_accuracy: 0.8993 - 70ms/epoch - 2ms/step\n",
      "Epoch 9/100\n",
      "36/36 - 0s - loss: 0.2524 - accuracy: 0.9042 - val_loss: 0.2716 - val_accuracy: 0.9038 - 73ms/epoch - 2ms/step\n",
      "Epoch 10/100\n",
      "36/36 - 0s - loss: 0.2521 - accuracy: 0.9056 - val_loss: 0.2699 - val_accuracy: 0.8926 - 71ms/epoch - 2ms/step\n",
      "Epoch 11/100\n",
      "36/36 - 0s - loss: 0.2454 - accuracy: 0.9064 - val_loss: 0.2632 - val_accuracy: 0.9016 - 72ms/epoch - 2ms/step\n",
      "Epoch 12/100\n",
      "36/36 - 0s - loss: 0.2435 - accuracy: 0.9064 - val_loss: 0.2649 - val_accuracy: 0.9016 - 117ms/epoch - 3ms/step\n",
      "Epoch 13/100\n",
      "36/36 - 0s - loss: 0.2396 - accuracy: 0.9089 - val_loss: 0.2624 - val_accuracy: 0.8993 - 105ms/epoch - 3ms/step\n",
      "Epoch 14/100\n",
      "36/36 - 0s - loss: 0.2412 - accuracy: 0.9081 - val_loss: 0.2565 - val_accuracy: 0.8993 - 115ms/epoch - 3ms/step\n",
      "Epoch 15/100\n",
      "36/36 - 0s - loss: 0.2373 - accuracy: 0.9114 - val_loss: 0.2621 - val_accuracy: 0.9038 - 106ms/epoch - 3ms/step\n",
      "Epoch 16/100\n",
      "36/36 - 0s - loss: 0.2378 - accuracy: 0.9111 - val_loss: 0.2554 - val_accuracy: 0.9038 - 155ms/epoch - 4ms/step\n",
      "Epoch 17/100\n",
      "36/36 - 0s - loss: 0.2359 - accuracy: 0.9123 - val_loss: 0.2478 - val_accuracy: 0.9060 - 156ms/epoch - 4ms/step\n",
      "Epoch 18/100\n",
      "36/36 - 0s - loss: 0.2355 - accuracy: 0.9139 - val_loss: 0.2566 - val_accuracy: 0.9060 - 159ms/epoch - 4ms/step\n",
      "Epoch 19/100\n",
      "36/36 - 0s - loss: 0.2350 - accuracy: 0.9123 - val_loss: 0.2529 - val_accuracy: 0.9083 - 164ms/epoch - 5ms/step\n"
     ]
    },
    {
     "data": {
      "text/plain": [
       "<keras.callbacks.History at 0x25d27cd6af0>"
      ]
     },
     "execution_count": 6,
     "metadata": {},
     "output_type": "execute_result"
    }
   ],
   "source": [
    "batch_size = 100\n",
    "\n",
    "max_epochs = 100\n",
    "\n",
    "# set an early stopping mechanism to avoid the overfitting \n",
    "# let's set patience=2, to be a bit tolerant against random validation loss increases\n",
    "# .callbacks.EarlyStopping(patience=2)\n",
    "early_stopping = tf.keras.callbacks.EarlyStopping(patience=2)\n",
    "\n",
    "# fit the model\n",
    "# note that this time the train, validation and test data are not iterable\n",
    "model.fit(train_inputs,train_targets, \n",
    "          batch_size=batch_size, \n",
    "          epochs=max_epochs, \n",
    "          callbacks=[early_stopping],\n",
    "          validation_data=(validation_inputs, validation_targets), \n",
    "          verbose = 2)\n",
    "# callbacks are functions called by a task when a task is completed\n",
    "       \n",
    "            "
   ]
  },
  {
   "cell_type": "code",
   "execution_count": 7,
   "id": "4a7ccba9",
   "metadata": {},
   "outputs": [
    {
     "name": "stdout",
     "output_type": "stream",
     "text": [
      "14/14 [==============================] - 0s 3ms/step - loss: 0.2485 - accuracy: 0.9085\n"
     ]
    }
   ],
   "source": [
    "test_loss, test_accuracy = model.evaluate(test_inputs, test_targets)"
   ]
  },
  {
   "cell_type": "code",
   "execution_count": 8,
   "id": "cc7f8a8e",
   "metadata": {},
   "outputs": [
    {
     "name": "stdout",
     "output_type": "stream",
     "text": [
      "Test loss: 0.25. Test accuracy: 90.85%\n"
     ]
    }
   ],
   "source": [
    "print('Test loss: {0:.2f}. Test accuracy: {1:.2f}%'.format(test_loss, test_accuracy*100.))"
   ]
  },
  {
   "cell_type": "code",
   "execution_count": 9,
   "id": "549fa5cc",
   "metadata": {},
   "outputs": [
    {
     "name": "stdout",
     "output_type": "stream",
     "text": [
      "1/1 [==============================] - 0s 88ms/step\n"
     ]
    },
    {
     "data": {
      "text/plain": [
       "array([[1., 0.],\n",
       "       [0., 1.]], dtype=float32)"
      ]
     },
     "execution_count": 9,
     "metadata": {},
     "output_type": "execute_result"
    }
   ],
   "source": [
    "customer_inputs = [[1620, 810, 5.87, 5.87, 0, 5, 0, 1, 0, 253],[1404,2508,6.66,13.33,1,6.5,0,0,0,102]] \n",
    "predict=model.predict(customer_inputs) \n",
    "classes=np.argmax(predict,axis=1)\n",
    "result = predict\n",
    "result"
   ]
  },
  {
   "cell_type": "code",
   "execution_count": null,
   "id": "9c934104",
   "metadata": {},
   "outputs": [],
   "source": []
  },
  {
   "cell_type": "code",
   "execution_count": null,
   "id": "bd1e5266",
   "metadata": {},
   "outputs": [],
   "source": []
  }
 ],
 "metadata": {
  "kernelspec": {
   "display_name": "Python [conda env:py3-TF2.0]",
   "language": "python",
   "name": "conda-env-py3-TF2.0-py"
  },
  "language_info": {
   "codemirror_mode": {
    "name": "ipython",
    "version": 3
   },
   "file_extension": ".py",
   "mimetype": "text/x-python",
   "name": "python",
   "nbconvert_exporter": "python",
   "pygments_lexer": "ipython3",
   "version": "3.9.15"
  }
 },
 "nbformat": 4,
 "nbformat_minor": 5
}
